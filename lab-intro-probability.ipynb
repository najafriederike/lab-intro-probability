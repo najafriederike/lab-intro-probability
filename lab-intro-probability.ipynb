{
 "cells": [
  {
   "cell_type": "markdown",
   "metadata": {},
   "source": [
    "# Lab | Intro to Probability"
   ]
  },
  {
   "cell_type": "markdown",
   "metadata": {},
   "source": [
    "**Objective**\n",
    "\n",
    "Welcome to this Intro to Probability lab, where we explore decision-making scenarios through the lens of probability and strategic analysis. In the business world, making informed decisions is crucial, especially when faced with uncertainties. This lab focuses on scenarios where probabilistic outcomes play a significant role in shaping strategies and outcomes. Students will engage in exercises that require assessing and choosing optimal paths based on data-driven insights. The goal is to enhance your skills by applying probability concepts to solve real-world problems."
   ]
  },
  {
   "cell_type": "markdown",
   "metadata": {},
   "source": [
    "**Challenge 1**"
   ]
  },
  {
   "cell_type": "markdown",
   "metadata": {},
   "source": [
    "#### Ironhack Airlines \n",
    "\n",
    "Often Airlines sell more tickets than they have seats available, this is called overbooking. Consider the following:\n",
    "- A plane has 450 seats. \n",
    "- Based on historical data we conclude that each individual passenger has a 3% chance of missing it's flight. \n",
    "\n",
    "If the Ironhack Airlines routinely sells 460 tickets, what is the chance that they have a seats for all passenger?"
   ]
  },
  {
   "cell_type": "code",
   "execution_count": 111,
   "metadata": {},
   "outputs": [
    {
     "name": "stdout",
     "output_type": "stream",
     "text": [
      "88.45 %\n"
     ]
    }
   ],
   "source": [
    "# Discrete Binomial:\n",
    "# The Binomial distribution is a discrete probability distribution that models the number of \n",
    "# successes in a fixed number of independent Bernoulli trials. In other words, you have a trial and \n",
    "# you repeat it a certain number of times. The binomial counts the numbers of success.\n",
    "\n",
    "from scipy.stats import binom\n",
    "\n",
    "p_show = 1 - 0.03\n",
    "n_seats = 450\n",
    "n_tickets = 460\n",
    "\n",
    "p_enough_seats = binom.cdf(n_seats, n_tickets, p_show)\n",
    "print(f\"{round(p_enough_seats*100,2)} %\")"
   ]
  },
  {
   "cell_type": "markdown",
   "metadata": {},
   "source": [
    "**Challenge 2**"
   ]
  },
  {
   "cell_type": "markdown",
   "metadata": {},
   "source": [
    "#### Ironhack Call Center "
   ]
  },
  {
   "cell_type": "markdown",
   "metadata": {},
   "source": [
    "Suppose a customer service representative at a call center is handling customer complaints. Consider the following:\n",
    "- The probability of successfully resolving a customer complaint on the first attempt is 0.3. \n",
    "\n",
    "What is the probability that the representative needs to make at least three attempts before successfully resolving a customer complaint?"
   ]
  },
  {
   "cell_type": "code",
   "execution_count": 143,
   "metadata": {},
   "outputs": [
    {
     "name": "stdout",
     "output_type": "stream",
     "text": [
      "2.82 %\n"
     ]
    }
   ],
   "source": [
    "# Discrete Geometric:\n",
    "# The Geometric distribution is a discrete probability distribution that models the number of \n",
    "# trials needed to achieve the first success in a sequence of independent trials. \n",
    "\n",
    "from scipy.stats import geom\n",
    "\n",
    "p_resolve = 0.03\n",
    "geom_dist = geom(p_resolve)\n",
    "cust_compl = geom_dist.pmf(3)\n",
    "print(f\"{round(cust_compl*100,2)} %\")"
   ]
  },
  {
   "cell_type": "markdown",
   "metadata": {},
   "source": [
    "**Challenge 3**"
   ]
  },
  {
   "cell_type": "markdown",
   "metadata": {},
   "source": [
    "#### Ironhack Website"
   ]
  },
  {
   "cell_type": "markdown",
   "metadata": {},
   "source": [
    "Consider a scenario related to Ironhack website traffic. Where:\n",
    "- our website takes on average 500 visits per hour.\n",
    "- the website's server is designed to handle up to 550 vists per hour.\n",
    "\n",
    "\n",
    "What is the probability of the website server being overwhelmed?"
   ]
  },
  {
   "cell_type": "code",
   "execution_count": 119,
   "metadata": {},
   "outputs": [
    {
     "name": "stdout",
     "output_type": "stream",
     "text": [
      "1.29 %\n"
     ]
    }
   ],
   "source": [
    "# Discrete Poisson\n",
    "# The Poisson distribution is a discrete probability distribution that expresses \n",
    "# the probability of a given number of events occurring in a fixed interval of time or space.\n",
    "\n",
    "from scipy.stats import poisson\n",
    "\n",
    "# Part 1\n",
    "avg_visits = 500\n",
    "today_visits = 550\n",
    "visits_distr = poisson(avg_visits)\n",
    "p_overload = 1 - visits_distr.cdf(today_visits)\n",
    "\n",
    "print(f\"{round(p_overload*100,2)} %\")"
   ]
  },
  {
   "cell_type": "markdown",
   "metadata": {},
   "source": [
    "What is the probability of being overwhelmed at some point during a day? (consider 24hours)"
   ]
  },
  {
   "cell_type": "code",
   "execution_count": 121,
   "metadata": {},
   "outputs": [
    {
     "name": "stdout",
     "output_type": "stream",
     "text": [
      "0.0 %\n"
     ]
    }
   ],
   "source": [
    "# Part 2\n",
    "avg_visits_daily = 500 * 24\n",
    "today_visits_daily = 550 * 24\n",
    "\n",
    "visits_distr_daily = poisson(avg_visits_daily)\n",
    "p_overload_daily = 1 - visits_distr_daily.cdf(today_visits_daily)\n",
    "p_overload_daily\n",
    "print(f\"{round(p_overload_daily*100,4)} %\")"
   ]
  },
  {
   "cell_type": "markdown",
   "metadata": {},
   "source": [
    "**Challenge 4**"
   ]
  },
  {
   "cell_type": "markdown",
   "metadata": {},
   "source": [
    "#### Ironhack Helpdesk"
   ]
  },
  {
   "cell_type": "markdown",
   "metadata": {},
   "source": [
    "Consider a scenario related to the time between arrivals of customers at a service desk.\n",
    "\n",
    "On average, a customers arrives every 10minutes.\n",
    "\n",
    "What is the probability that the next customer will arrive within the next 5 minutes?"
   ]
  },
  {
   "cell_type": "code",
   "execution_count": 125,
   "metadata": {},
   "outputs": [
    {
     "name": "stdout",
     "output_type": "stream",
     "text": [
      "39.35 %\n"
     ]
    }
   ],
   "source": [
    "# Continuous Exponencial\n",
    "# The Exponential Distribution is a way to model the time between events that happen one after \n",
    "# another, independently, and at a constant average rate.\n",
    "\n",
    "from scipy.stats import expon\n",
    "\n",
    "# Part 1\n",
    "lambda_value = 0.1 # rate of events per unit of time\n",
    "lambda_inv = expon(scale = 1/lambda_value)\n",
    "p_next_customer = lambda_inv.cdf(5)\n",
    "print(f\"{round(p_next_customer*100, 2)} %\")"
   ]
  },
  {
   "cell_type": "markdown",
   "metadata": {},
   "source": [
    "If there is no customer for 15minutes, employees can that a 5minutes break.\n",
    "\n",
    "What is the probability an employee taking a break?"
   ]
  },
  {
   "cell_type": "code",
   "execution_count": 127,
   "metadata": {},
   "outputs": [
    {
     "name": "stdout",
     "output_type": "stream",
     "text": [
      "22.31 %\n"
     ]
    }
   ],
   "source": [
    "# Part 2\n",
    "lambda_value = 0.1 # rate of events per unit of time\n",
    "lambda_inv = expon(scale = 1/lambda_value)\n",
    "p_empl_break = 1-lambda_inv.cdf(15)\n",
    "\n",
    "print(f\"{round(p_empl_break*100, 2)} %\")"
   ]
  },
  {
   "cell_type": "markdown",
   "metadata": {},
   "source": [
    "**Challenge 5**"
   ]
  },
  {
   "cell_type": "markdown",
   "metadata": {},
   "source": [
    "The weights of a certain species of birds follow a normal distribution with a mean weight of 150 grams and a standard deviation of 10 grams. \n",
    "\n",
    "- If we randomly select a bird, what is the probability that its weight is between 140 and 160 grams?"
   ]
  },
  {
   "cell_type": "code",
   "execution_count": 130,
   "metadata": {},
   "outputs": [
    {
     "name": "stdout",
     "output_type": "stream",
     "text": [
      "68.27 %\n"
     ]
    }
   ],
   "source": [
    "# Continuous Gaussian (Normal)\n",
    "# The Normal Distribution is commonly used to model continuous random variables \n",
    "# because it accurately represents the natural symmetry and tendency to cluster around an average. \n",
    "\n",
    "from scipy.stats import norm \n",
    "\n",
    "mean = 150\n",
    "std = 10\n",
    "\n",
    "norm_dist = norm(loc = mean, scale = std)\n",
    "p_weight = norm_dist.cdf(160) - norm_dist.cdf(140)\n",
    "print(f\"{round(p_weight*100,2)} %\")"
   ]
  },
  {
   "cell_type": "markdown",
   "metadata": {},
   "source": [
    "**Challenge 6**"
   ]
  },
  {
   "cell_type": "markdown",
   "metadata": {},
   "source": [
    "If the lifetime (in hours) of a certain electronic component follows an exponential distribution with a mean lifetime of 50 hours, what is the probability that the component fails within the first 30 hours?"
   ]
  },
  {
   "cell_type": "code",
   "execution_count": 133,
   "metadata": {},
   "outputs": [
    {
     "name": "stdout",
     "output_type": "stream",
     "text": [
      "54.88 %\n"
     ]
    }
   ],
   "source": [
    "# Continuous Exponencial\n",
    "# The Exponential Distribution is a way to model the time between events that happen \n",
    "# one after another, independently, and at a constant average rate. \n",
    "\n",
    "# The Exponential Distribution is characterized by a single parameter, often denoted as λ (lambda). This \n",
    "# parameter represents the rate of events occurring per unit time.\n",
    "\n",
    "from scipy.stats import expon\n",
    "lambda_value = (1/50) # rate of events per unit of time\n",
    "lambda_inv = expon(scale = 1/lambda_value)\n",
    "p_break = 1-lambda_inv.cdf(30)\n",
    "\n",
    "print(f\"{round(p_break*100, 2)} %\")"
   ]
  },
  {
   "cell_type": "code",
   "execution_count": null,
   "metadata": {},
   "outputs": [],
   "source": []
  }
 ],
 "metadata": {
  "kernelspec": {
   "display_name": "Python 3 (ipykernel)",
   "language": "python",
   "name": "python3"
  },
  "language_info": {
   "codemirror_mode": {
    "name": "ipython",
    "version": 3
   },
   "file_extension": ".py",
   "mimetype": "text/x-python",
   "name": "python",
   "nbconvert_exporter": "python",
   "pygments_lexer": "ipython3",
   "version": "3.12.4"
  }
 },
 "nbformat": 4,
 "nbformat_minor": 4
}
